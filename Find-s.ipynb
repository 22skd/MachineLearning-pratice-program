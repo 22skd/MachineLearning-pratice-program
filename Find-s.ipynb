{
 "cells": [
  {
   "cell_type": "code",
   "execution_count": 6,
   "metadata": {},
   "outputs": [
    {
     "name": "stdout",
     "output_type": "stream",
     "text": [
      "\n",
      "The given training data\n",
      "['Sunny', 'Warm', 'Normal', 'Strong', 'Warm', 'Same', 'Yes']\n",
      "['Sunny', 'Warm', 'High', 'Strong', 'Warm', 'Same', 'Yes']\n",
      "['Rainy', 'Cold', 'High', 'Strong', 'Warm', 'Change', 'No']\n",
      "['Sunny', 'Warm', 'High', 'Strong', 'Cool', 'Change', 'Yes']\n",
      "The positive examples are:\n",
      "['Sunny', 'Warm', 'Normal', 'Strong', 'Warm', 'Same', 'Yes']\n",
      "['Sunny', 'Warm', 'High', 'Strong', 'Warm', 'Same', 'Yes']\n",
      "['Sunny', 'Warm', 'High', 'Strong', 'Cool', 'Change', 'Yes']\n",
      "Number of positive examples: 3\n",
      "Number of find sexamples: ['%', '%', '%', '%', '%', '%']\n",
      "['Sunny', 'Warm', 'Normal', 'Strong', 'Warm', 'Same']\n",
      "['Sunny', 'Warm', '?', 'Strong', 'Warm', 'Same']\n",
      "['Sunny', 'Warm', '?', 'Strong', '?', '?']\n",
      "\n",
      "The maximally specific Find-s hypothesis for the given training examples is:\n",
      "['Sunny', 'Warm', '?', 'Strong', '?', '?']\n"
     ]
    }
   ],
   "source": [
    "import csv\n",
    "\n",
    "hypo = ['%'] * 6\n",
    "data = []\n",
    "\n",
    "print(\"\\nThe given training data\")\n",
    "\n",
    "with open(\"P1_dataset.csv\") as csv_file:\n",
    "    readcsv = csv.reader(csv_file, delimiter=\",\")\n",
    "    next(readcsv)\n",
    "    for row in readcsv:\n",
    "        print(row)\n",
    "        if (row[-1] == \"Yes\"):\n",
    "            data.append(row)\n",
    "\n",
    "print(\"The positive examples are:\")\n",
    "for x in data:\n",
    "    print(x)\n",
    "\n",
    "print(\"Number of positive examples:\", len(data) )     \n",
    "\n",
    "print(\"Number of find sexamples:\", hypo)\n",
    "\n",
    "for i in range(len(data)):\n",
    "    for j in range(len(data[i])-1):\n",
    "        if hypo[j] == '%':\n",
    "            hypo[j] =data[i][j]\n",
    "        elif hypo[j] !=data[i][j]:\n",
    "            hypo[j]='?'\n",
    "    print(hypo)\n",
    "print(\"\\nThe maximally specific Find-s hypothesis for the given training examples is:\")\n",
    "print([h for h in hypo if h != '%'])"
   ]
  },
  {
   "cell_type": "code",
   "execution_count": null,
   "metadata": {},
   "outputs": [],
   "source": []
  }
 ],
 "metadata": {
  "kernelspec": {
   "display_name": "Python 3",
   "language": "python",
   "name": "python3"
  },
  "language_info": {
   "codemirror_mode": {
    "name": "ipython",
    "version": 3
   },
   "file_extension": ".py",
   "mimetype": "text/x-python",
   "name": "python",
   "nbconvert_exporter": "python",
   "pygments_lexer": "ipython3",
   "version": "3.11.0"
  },
  "orig_nbformat": 4
 },
 "nbformat": 4,
 "nbformat_minor": 2
}
