{
 "cells": [
  {
   "cell_type": "code",
   "execution_count": null,
   "metadata": {},
   "outputs": [],
   "source": [
    "import numpy as np\n",
    "from sklearn.cluster import KMeans\n",
    "import matplotlib.pyplot as plt\n",
    "from sklearn.mixture import GaussianMixture\n",
    "import pandas as pd\n",
    "\n",
    "X = pd.read_csv('P9_dataset.csv')\n",
    "x1 = X['Distance_Feature'].values\n",
    "x2 = X['Speeding_Feature'].values\n",
    "X= np.array(list(zip(x1,x2))).reshape(len(x1),2)\n",
    "\n",
    "\n",
    "plt.plot()\n",
    "plt.title('Dataset')\n",
    "plt.scatter(x1, x2)\n",
    "plt.show()\n",
    "\n",
    "gmm = GaussianMixture(n_components=3)\n",
    "gmm.fit(X)\n",
    "em_predictions = gmm.predict(X)\n",
    "plt.title('Exceptation Maximum')\n",
    "plt.scatter(X[:,0], X[:,1],c=em_predictions,s=50)\n",
    "plt.show()\n",
    "\n",
    "\n",
    "import matplotlib.pyplot as plt1\n",
    "kmeans = KMeans(n_clusters=3)\n",
    "kmeans.fit(X)\n",
    "plt.title('KMEANS')\n",
    "plt1.scatter(X[:,0], X[:,1], c=kmeans.labels_, cmap='rainbow')\n",
    "plt1.scatter(kmeans.cluster_centers_[:,0] ,kmeans.cluster_centers_[:,1], color='black')"
   ]
  }
 ],
 "metadata": {
  "language_info": {
   "name": "python"
  },
  "orig_nbformat": 4
 },
 "nbformat": 4,
 "nbformat_minor": 2
}
