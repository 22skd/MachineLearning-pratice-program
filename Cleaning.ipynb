{
 "cells": [
  {
   "cell_type": "code",
   "execution_count": 2,
   "metadata": {},
   "outputs": [
    {
     "name": "stdout",
     "output_type": "stream",
     "text": [
      "     outlook temperature humidity    wind play\n",
      "0      sunny         hot     high    weak   no\n",
      "1      sunny         hot     high  strong   no\n",
      "2   overcast         hot     high    weak  yes\n",
      "3       rain        mild     high    weak  yes\n",
      "4       rain        cool   normal    weak  yes\n",
      "5       rain        cool   normal  strong   no\n",
      "6   overcast        cool   normal  strong  yes\n",
      "7      sunny        mild     high    weak   no\n",
      "8      sunny        cool   normal    weak  yes\n",
      "9       rain        mild   normal    weak  yes\n",
      "10     sunny        mild   normal  strong  yes\n",
      "11  overcast        mild     high  strong  yes\n",
      "12  overcast         hot   normal    weak  yes\n",
      "13      rain        mild     high  strong   no\n"
     ]
    }
   ],
   "source": [
    "import pandas as pd\n",
    "tennis=pd.read_csv(\"P3_cleaning.csv\")\n",
    "print(tennis)\n"
   ]
  },
  {
   "cell_type": "code",
   "execution_count": 20,
   "metadata": {},
   "outputs": [
    {
     "name": "stdout",
     "output_type": "stream",
     "text": [
      "     outlook temperature humidity    wind\n",
      "0      sunny         hot     high    weak\n",
      "1      sunny         hot     high  strong\n",
      "2   overcast         hot     high    weak\n",
      "3       rain        mild     high    weak\n",
      "4       rain        cool   normal    weak\n",
      "5       rain        cool   normal  strong\n",
      "6   overcast        cool   normal  strong\n",
      "7      sunny        mild     high    weak\n",
      "8      sunny        cool   normal    weak\n",
      "9       rain        mild   normal    weak\n",
      "10     sunny        mild   normal  strong\n",
      "11  overcast        mild     high  strong\n",
      "12  overcast         hot   normal    weak\n",
      "13      rain        mild     high  strong\n",
      "   play\n",
      "0    no\n",
      "1    no\n",
      "2   yes\n",
      "3   yes\n",
      "4   yes\n",
      "5    no\n",
      "6   yes\n",
      "7    no\n",
      "8   yes\n",
      "9   yes\n",
      "10  yes\n",
      "11  yes\n",
      "12  yes\n",
      "13   no\n"
     ]
    }
   ],
   "source": [
    "X=tennis.iloc[:,0:4]\n",
    "print(x)\n",
    "y=tennis.iloc[:,4:]\n",
    "print(y)"
   ]
  },
  {
   "cell_type": "code",
   "execution_count": 22,
   "metadata": {},
   "outputs": [
    {
     "name": "stdout",
     "output_type": "stream",
     "text": [
      "features\n",
      " [[2. 1. 0. 1.]\n",
      " [2. 1. 0. 0.]\n",
      " [0. 1. 0. 1.]\n",
      " [1. 2. 0. 1.]\n",
      " [1. 0. 1. 1.]\n",
      " [1. 0. 1. 0.]\n",
      " [0. 0. 1. 0.]\n",
      " [2. 2. 0. 1.]\n",
      " [2. 0. 1. 1.]\n",
      " [1. 2. 1. 1.]\n",
      " [2. 2. 1. 0.]\n",
      " [0. 2. 0. 0.]\n",
      " [0. 1. 1. 1.]\n",
      " [1. 2. 0. 0.]]\n",
      "Target\n",
      " [0 0 1 1 1 0 1 0 1 1 1 1 1 0]\n"
     ]
    },
    {
     "name": "stderr",
     "output_type": "stream",
     "text": [
      "c:\\Python311\\Lib\\site-packages\\sklearn\\preprocessing\\_label.py:116: DataConversionWarning: A column-vector y was passed when a 1d array was expected. Please change the shape of y to (n_samples, ), for example using ravel().\n",
      "  y = column_or_1d(y, warn=True)\n"
     ]
    }
   ],
   "source": [
    "from sklearn.preprocessing import OrdinalEncoder,LabelEncoder\n",
    "ordinal_encoder = OrdinalEncoder() # for cleaning the features\n",
    "label_encode = LabelEncoder() # for cleaning the targets\n",
    "X_ordinal_encoded= ordinal_encoder.fit_transform(X)\n",
    "print(\"features\\n\" , X_ordinal_encoded)\n",
    "y_label_encoded = label_encode.fit_transform(y)\n",
    "print(\"Target\\n\",y_label_encoded)\n"
   ]
  }
 ],
 "metadata": {
  "kernelspec": {
   "display_name": "Python 3",
   "language": "python",
   "name": "python3"
  },
  "language_info": {
   "codemirror_mode": {
    "name": "ipython",
    "version": 3
   },
   "file_extension": ".py",
   "mimetype": "text/x-python",
   "name": "python",
   "nbconvert_exporter": "python",
   "pygments_lexer": "ipython3",
   "version": "3.11.0"
  },
  "orig_nbformat": 4
 },
 "nbformat": 4,
 "nbformat_minor": 2
}
