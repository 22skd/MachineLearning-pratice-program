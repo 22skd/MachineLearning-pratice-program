{
 "cells": [
  {
   "cell_type": "code",
   "execution_count": 5,
   "metadata": {},
   "outputs": [
    {
     "name": "stdout",
     "output_type": "stream",
     "text": [
      "actual : [1 2 1 2 2 1 1 0 2 0 0 1 1 2 1 1 2 1 0 0 1 0 1 2 0 1 2 0 2 1]\n",
      "predicted : [1 1 1 2 2 1 1 0 2 0 0 1 1 2 1 1 2 2 0 0 1 0 1 2 0 1 2 0 2 1]\n",
      "Accuracy : 0.9333333333333333\n"
     ]
    }
   ],
   "source": [
    "from sklearn.ensemble import RandomForestClassifier\n",
    "from sklearn.datasets import load_iris\n",
    "from sklearn.metrics import accuracy_score\n",
    "import pandas as pd\n",
    "from sklearn.model_selection import train_test_split\n",
    "\n",
    "iris_data=load_iris()\n",
    "X=iris_data.data[:,2:]\n",
    "y=iris_data.target\n",
    "X_train,X_test,y_train,y_test=train_test_split(X,y,test_size=0.2)\n",
    "rnd_clf=RandomForestClassifier(n_estimators=500,max_leaf_nodes=16,n_jobs=-1)\n",
    "clf=rnd_clf.fit(X_train,y_train)\n",
    "y_pred_rf=rnd_clf.predict(X_test)\n",
    "accuracy=accuracy_score(y_test,y_pred_rf)\n",
    "print(\"actual : \"+str(y_test))\n",
    "print(\"predicted : \"+str(y_pred_rf))\n",
    "print(\"Accuracy : \"+str(accuracy))"
   ]
  }
 ],
 "metadata": {
  "kernelspec": {
   "display_name": "Python 3",
   "language": "python",
   "name": "python3"
  },
  "language_info": {
   "codemirror_mode": {
    "name": "ipython",
    "version": 3
   },
   "file_extension": ".py",
   "mimetype": "text/x-python",
   "name": "python",
   "nbconvert_exporter": "python",
   "pygments_lexer": "ipython3",
   "version": "3.11.0"
  },
  "orig_nbformat": 4
 },
 "nbformat": 4,
 "nbformat_minor": 2
}
